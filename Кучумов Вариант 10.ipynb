{
 "cells": [
  {
   "cell_type": "markdown",
   "metadata": {},
   "source": [
    "![5](https://downloader.disk.yandex.ru/preview/a125eb2073af6ec1e4ac530dc447ca8686347892b189c61059321d43981ecf70/5ca3f1ea/S7FLM5-N9mCoYDipWkNwQwgRuKWIloz9cM2WjPvFZDIeNBjJB56IVtwghgOxT7bmXE9j4QOKU6gaRIO89Cgleg%3D%3D?uid=0&filename=%D0%92%D0%B0%D1%80%D0%B8%D0%B0%D0%BD%D1%82%2010.jpg&disposition=inline&hash=&limit=0&content_type=image%2Fjpeg&tknv=v2&size=2048x2048)"
   ]
  },
  {
   "cell_type": "code",
   "execution_count": 2,
   "metadata": {},
   "outputs": [],
   "source": [
    "import math\n",
    "g = 9.81"
   ]
  },
  {
   "cell_type": "markdown",
   "metadata": {},
   "source": [
    "Исходные данные"
   ]
  },
  {
   "cell_type": "code",
   "execution_count": 3,
   "metadata": {},
   "outputs": [],
   "source": [
    "r0_m = 260\n",
    "h_m = 21 \n",
    "rho_oil_kgm3 = 850\n",
    "rho_water_kgm3 = 1012\n",
    "rho_gas_kgm3 = 120\n",
    "mu_oil_pas = 6.1 * 10**(-3)\n",
    "kg_m2 = 0.38 * 10**(-12)\n",
    "aniz_res = 5\n",
    "r_well_m = 0.1\n",
    "alpha = 0.2\n",
    "betta = 0.7\n",
    "m_otvm = 14\n",
    "l0_m =0.42\n",
    "r0_canal_m = 0.014 / 2   #или не делить?"
   ]
  },
  {
   "cell_type": "code",
   "execution_count": 4,
   "metadata": {},
   "outputs": [],
   "source": [
    "def out(a,b):\n",
    "    a  = str(a)\n",
    "    b = str(b)\n",
    "    result = a + ' = ' + b\n",
    "    print(result)"
   ]
  },
  {
   "cell_type": "code",
   "execution_count": 5,
   "metadata": {},
   "outputs": [
    {
     "name": "stdout",
     "output_type": "stream",
     "text": [
      "Параметр размещения скважин = 2.4761904761904763\n"
     ]
    }
   ],
   "source": [
    "rho0 = r0_m / aniz_res / h_m\n",
    "out('Параметр размещения скважин', rho0)"
   ]
  },
  {
   "cell_type": "markdown",
   "metadata": {},
   "source": [
    "При заданных параметрах alpha, betta, rho0 из таблицы П1 находим плотности расходов q1 и q2"
   ]
  },
  {
   "cell_type": "markdown",
   "metadata": {},
   "source": [
    "![3](https://downloader.disk.yandex.ru/preview/fab63511c2aa65657d35dbd509709b385d63b543689b9635ccce4ada19dd51fd/5ca3f0c9/W_sHeOhmBC9-P9Gf53PoPdK_PfO-cJXhU_aOpo9Bf1Z8dfyZCo2s9jtGB3km_-9qddo_PwKyGGh4aJgXPonaqA%3D%3D?uid=0&filename=6.jpg&disposition=inline&hash=&limit=0&content_type=image%2Fjpeg&tknv=v2&size=2048x2048)\n"
   ]
  },
  {
   "cell_type": "code",
   "execution_count": 6,
   "metadata": {},
   "outputs": [],
   "source": [
    "q1 = 0.082\n",
    "q2 = 0.171"
   ]
  },
  {
   "cell_type": "markdown",
   "metadata": {},
   "source": [
    "2. По формулам (22) при исходных параметрах подсчитываем удельные расходы"
   ]
  },
  {
   "cell_type": "code",
   "execution_count": 17,
   "metadata": {},
   "outputs": [
    {
     "name": "stdout",
     "output_type": "stream",
     "text": [
      "epsilon = 0.0003317541618774084\n",
      "epsilon_h = 0.006966837399425577\n",
      "delta_rho_1 = 730\n",
      "delta_rho_2 = 162\n",
      "q01 = 0.41703488672961503\n",
      "q02 = 0.19299532963888735\n",
      "q0 = 0.19299532963888735\n"
     ]
    }
   ],
   "source": [
    "epsilon = 2*math.pi*kg_m2 * g / mu_oil_pas * 86400\n",
    "out('epsilon',epsilon)\n",
    "epsilon_h = epsilon * h_m \n",
    "out('epsilon_h',epsilon_h)\n",
    "delta_rho_1 = rho_oil_kgm3 - rho_gas_kgm3\n",
    "out('delta_rho_1',delta_rho_1)\n",
    "delta_rho_2 = rho_water_kgm3- rho_oil_kgm3\n",
    "out('delta_rho_2',delta_rho_2)\n",
    "q01 =  q1 * delta_rho_1 * epsilon_h\n",
    "out('q01',q01)\n",
    "q02 =  q2 * delta_rho_2  * epsilon_h\n",
    "out('q02',q02)\n",
    "if q01 < q02:\n",
    "    q0 = q01\n",
    "else:\n",
    "    q0 = q02\n",
    "\n",
    "out('q0',q0)\n",
    "\n"
   ]
  },
  {
   "cell_type": "markdown",
   "metadata": {},
   "source": [
    "Одновременно безводный и безгазовый дебит скважины Q"
   ]
  },
  {
   "cell_type": "code",
   "execution_count": 8,
   "metadata": {},
   "outputs": [
    {
     "name": "stdout",
     "output_type": "stream",
     "text": [
      "q = 2.026450961208317\n"
     ]
    }
   ],
   "source": [
    "q = q0 * (betta - alpha) * h_m \n",
    "out('q',q)"
   ]
  },
  {
   "cell_type": "markdown",
   "metadata": {},
   "source": [
    "По исходным параметрам alpha и betta из таблицы 8.3 определяем ординату нейтральной линии тока epsilon_dif(alpha; betta)"
   ]
  },
  {
   "cell_type": "markdown",
   "metadata": {},
   "source": [
    "![1](https://downloader.disk.yandex.ru/preview/c5abc347f1fa87f4031e25d72774387f0ce36e7cbc9c92319b401779f0b1e9f5/5ca3eb08/XvCcqB76UXCMtgIMGTDbHRuRiKvWQRN68bb4s600B8L9zI2s6ikFaaARE1IC7hlidNjBukGakDrEeR6J2jkmDw%3D%3D?uid=0&filename=1.PNG&disposition=inline&hash=&limit=0&content_type=image%2Fpng&tknv=v2&size=2048x2048)\n"
   ]
  },
  {
   "cell_type": "code",
   "execution_count": 10,
   "metadata": {},
   "outputs": [
    {
     "name": "stdout",
     "output_type": "stream",
     "text": [
      "epsilon_dif = 0.425\n"
     ]
    }
   ],
   "source": [
    "epsilon_dif = 0.425\n",
    "out('epsilon_dif',epsilon_dif)"
   ]
  },
  {
   "cell_type": "code",
   "execution_count": 19,
   "metadata": {},
   "outputs": [
    {
     "name": "stdout",
     "output_type": "stream",
     "text": [
      "h1_dif = 0.5294117647058824\n",
      "h2_dif = 0.47826086956521735\n",
      "h1 = 0.2\n",
      "h2 = 20.8\n",
      "rho01 = 5.826330532212886\n",
      "rho02 = 4.3064182194616984\n",
      "psi_dif = 0.009523809523809525\n"
     ]
    }
   ],
   "source": [
    "h1_dif = (epsilon_dif - alpha)/epsilon_dif\n",
    "out('h1_dif',h1_dif)\n",
    "h2_dif = (betta - epsilon_dif) / (1 - epsilon_dif)\n",
    "out('h2_dif',h2_dif)\n",
    "h1 = 2 * r_well_m\n",
    "out('h1',h1)\n",
    "h2 = h_m - h1\n",
    "out('h2',h2)\n",
    "\n",
    "rho01 = rho0 / epsilon_dif\n",
    "out('rho01',rho01)\n",
    "rho02 = rho0 / (1 - epsilon_dif)\n",
    "out('rho02',rho02)\n",
    "psi_dif = 2 * r_well_m / h_m\n",
    "out('psi_dif',psi_dif)"
   ]
  },
  {
   "cell_type": "markdown",
   "metadata": {},
   "source": [
    "По таблице 8.2 определяем значения функций \n",
    "\n",
    "ψ(rho01, h1) и ψ(rho02, h2)\n",
    "\n",
    "ψ(rho01, h2) и ψ(rho02, h1)"
   ]
  },
  {
   "cell_type": "markdown",
   "metadata": {},
   "source": [
    "![2](https://downloader.disk.yandex.ru/preview/a8d2993121cddc078963b0e9110fc30754bd27719a29126d347fd5fa8f5f2795/5ca3f07a/Sv4VcXJapz4Kb_Jwy9uPb72XkEWFXGX9RekWNR-mM0gMoUNu5ebWBwk_Nl-ngvgBufJta_FT3c3N3CGldbJ6Sg%3D%3D?uid=0&filename=2.PNG&disposition=inline&hash=&limit=0&content_type=image%2Fpng&tknv=v2&size=1600x757)"
   ]
  },
  {
   "cell_type": "code",
   "execution_count": 12,
   "metadata": {},
   "outputs": [
    {
     "name": "stdout",
     "output_type": "stream",
     "text": [
      "psi1_dif = 1.5\n",
      "psi2_dif = 1.8\n",
      "psi12_dif = 1.85\n",
      "psi21_dif = 1.4\n"
     ]
    }
   ],
   "source": [
    "psi1_dif = 1.5 # 11\n",
    "out('psi1_dif',psi1_dif)\n",
    "psi2_dif = 1.8 # 22\n",
    "out('psi2_dif',psi2_dif)\n",
    "\n",
    "psi12_dif = 1.85 #12\n",
    "out('psi12_dif',psi12_dif)\n",
    "psi21_dif = 1.4 #21\n",
    "out('psi21_dif',psi21_dif)\n"
   ]
  },
  {
   "cell_type": "markdown",
   "metadata": {},
   "source": [
    "По формулам (32) подсчитываем фильтрационные сопротивления С1(rho01,h1_dif) и С2(rho02,h2_dif) "
   ]
  },
  {
   "cell_type": "code",
   "execution_count": 27,
   "metadata": {},
   "outputs": [
    {
     "name": "stdout",
     "output_type": "stream",
     "text": [
      "r_roof = 2600.0\n",
      "c1_11 = 6.202979392892106\n",
      "c2_22 = 10.235474709458497\n",
      "c01 = 0.6867034688456587\n",
      "c02 = 0.7601476901125742\n",
      "c2_12 = 10.312747436731224\n",
      "c1_21 = 6.3918682817809955\n",
      "s1 = 17.202430298468986\n",
      "s2 = 17.38749068135207\n"
     ]
    }
   ],
   "source": [
    "r_roof = r0_m / r_well_m\n",
    "out('r_roof',r_roof)\n",
    "def calc_c1(psi1_dif):\n",
    "    result = (alpha / (epsilon_dif - alpha) * \n",
    "          (math.log(r_roof/r_well_m) - epsilon_dif * psi1_dif /alpha ))\n",
    "    return result\n",
    "c1 = calc_c1(psi1_dif)\n",
    "out('c1_11',c1)\n",
    "def calc_c2(psi1_dif):\n",
    "    result = ((1 - betta) / (betta - epsilon_dif) * \n",
    "          (math.log(r_roof/r_well_m) - (1 - epsilon_dif * psi1_dif) /(1 - betta) ))\n",
    "    return result\n",
    "c2 = calc_c2(psi2_dif)\n",
    "out('c2_22',c2)\n",
    "def c0_1_or_2(h):\n",
    "    result = (1/ h * (math.log(4 * r_well_m / l0_m) -\n",
    "                        aniz_res/ m_otvm /l0_m * math.log(2*math.pi * r0_canal_m * m_otvm)))\n",
    "    return result\n",
    "c01 = c0_1_or_2(h1_dif)\n",
    "out('c01',c01)\n",
    "\n",
    "c02 = c0_1_or_2(h2_dif)\n",
    "out('c02',c02)\n",
    "\n",
    "c2_12=calc_c2(psi12_dif)\n",
    "out('c2_12',c2_12)\n",
    "c1_21=calc_c1(psi21_dif)\n",
    "out('c1_21',c1_21)\n",
    "\n",
    "s1 = c1 + c2_12 + c01\n",
    "out('s1',s1)\n",
    "\n",
    "s2 = c1_21 + c2 + c02\n",
    "out('s2',s2)\n",
    "\n"
   ]
  },
  {
   "cell_type": "markdown",
   "metadata": {},
   "source": [
    "Предельная депрессия"
   ]
  },
  {
   "cell_type": "code",
   "execution_count": 30,
   "metadata": {},
   "outputs": [],
   "source": [
    "depression = (epsilon * h_m * min([q1*delta_rho_1,q2*delta_rho_2]) /\n",
    "              (betta - alpha) / epsilon_dif *\n",
    "              ((epsilon_dif - alpha)**2 * (math.log(r_roof/r_well_m) + s1) + \n",
    "              (betta - epsilon_dif)**2 * (math.log(r_roof/r_well_m) + s2))\n",
    "             )"
   ]
  },
  {
   "cell_type": "code",
   "execution_count": 31,
   "metadata": {},
   "outputs": [
    {
     "name": "stdout",
     "output_type": "stream",
     "text": [
      "depression = 3.1508106985397166\n"
     ]
    }
   ],
   "source": [
    "out('depression',depression)"
   ]
  },
  {
   "cell_type": "markdown",
   "metadata": {},
   "source": [
    "![4](https://downloader.disk.yandex.ru/preview/8e55db286d8f4c8e8f0b1ed48a4e766fe918f98fb06f9bbafb1841e7e24e2916/5ca3f0b6/NlE5KUpi2Yjx6BAPgaMf7AFrqIcFAzGqXmfR7x3rngXJT42zfo8uc-ma8-K4nmHoSUEjPAo5ITrMmeQ9n35pLA%3D%3D?uid=0&filename=3.PNG&disposition=inline&hash=&limit=0&content_type=image%2Fpng&tknv=v2&size=2048x2048)\n"
   ]
  },
  {
   "cell_type": "code",
   "execution_count": null,
   "metadata": {},
   "outputs": [],
   "source": []
  }
 ],
 "metadata": {
  "kernelspec": {
   "display_name": "Python 3",
   "language": "python",
   "name": "python3"
  },
  "language_info": {
   "codemirror_mode": {
    "name": "ipython",
    "version": 3
   },
   "file_extension": ".py",
   "mimetype": "text/x-python",
   "name": "python",
   "nbconvert_exporter": "python",
   "pygments_lexer": "ipython3",
   "version": "3.7.0"
  }
 },
 "nbformat": 4,
 "nbformat_minor": 2
}
