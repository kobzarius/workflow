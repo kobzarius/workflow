{
 "cells": [
  {
   "cell_type": "markdown",
   "metadata": {},
   "source": [
    "Что нужно сделать далее:\n",
    "1. Рисовать графики\n",
    "2. Изменение параметров пласта\n",
    "3. КПД\n",
    "4. КВД\n",
    "5. Непроницаемая граница\n",
    "6. Постоянное давление на контуре\n",
    "7. Диагностический график\n",
    "8. Добавление классов для каждого графика свои данные!!!\n",
    "9. Скин фактор\n",
    "10. ВСС\n",
    "11. Алгорит Стехфеста\n",
    "12. Изменение давления в безразмерных координатах\n",
    "13. Сравнение КВД и КПД\n",
    "14. Гидропрослушивание\n",
    "15. Логарифмическая аппроксимация имеет место при...\n",
    "16. Эталонная кривая\n",
    "\n",
    ".\n",
    ".\n",
    ".\n",
    "99. Интепретатор ГДИС\n",
    ".\n",
    ".\n",
    ".\n",
    "999. CRM\n",
    "1000. Термометрия"
   ]
  },
  {
   "cell_type": "markdown",
   "metadata": {},
   "source": [
    "ИСП. Графики"
   ]
  },
  {
   "cell_type": "markdown",
   "metadata": {},
   "source": [
    "Импортируем все необходимые модули"
   ]
  },
  {
   "cell_type": "code",
   "execution_count": 76,
   "metadata": {
    "scrolled": true
   },
   "outputs": [
    {
     "data": {
      "text/html": [
       "\n",
       "    <div class=\"bk-root\">\n",
       "        <a href=\"https://bokeh.pydata.org\" target=\"_blank\" class=\"bk-logo bk-logo-small bk-logo-notebook\"></a>\n",
       "        <span id=\"13092\">Loading BokehJS ...</span>\n",
       "    </div>"
      ]
     },
     "metadata": {},
     "output_type": "display_data"
    },
    {
     "data": {
      "application/javascript": [
       "\n",
       "(function(root) {\n",
       "  function now() {\n",
       "    return new Date();\n",
       "  }\n",
       "\n",
       "  var force = true;\n",
       "\n",
       "  if (typeof (root._bokeh_onload_callbacks) === \"undefined\" || force === true) {\n",
       "    root._bokeh_onload_callbacks = [];\n",
       "    root._bokeh_is_loading = undefined;\n",
       "  }\n",
       "\n",
       "  var JS_MIME_TYPE = 'application/javascript';\n",
       "  var HTML_MIME_TYPE = 'text/html';\n",
       "  var EXEC_MIME_TYPE = 'application/vnd.bokehjs_exec.v0+json';\n",
       "  var CLASS_NAME = 'output_bokeh rendered_html';\n",
       "\n",
       "  /**\n",
       "   * Render data to the DOM node\n",
       "   */\n",
       "  function render(props, node) {\n",
       "    var script = document.createElement(\"script\");\n",
       "    node.appendChild(script);\n",
       "  }\n",
       "\n",
       "  /**\n",
       "   * Handle when an output is cleared or removed\n",
       "   */\n",
       "  function handleClearOutput(event, handle) {\n",
       "    var cell = handle.cell;\n",
       "\n",
       "    var id = cell.output_area._bokeh_element_id;\n",
       "    var server_id = cell.output_area._bokeh_server_id;\n",
       "    // Clean up Bokeh references\n",
       "    if (id != null && id in Bokeh.index) {\n",
       "      Bokeh.index[id].model.document.clear();\n",
       "      delete Bokeh.index[id];\n",
       "    }\n",
       "\n",
       "    if (server_id !== undefined) {\n",
       "      // Clean up Bokeh references\n",
       "      var cmd = \"from bokeh.io.state import curstate; print(curstate().uuid_to_server['\" + server_id + \"'].get_sessions()[0].document.roots[0]._id)\";\n",
       "      cell.notebook.kernel.execute(cmd, {\n",
       "        iopub: {\n",
       "          output: function(msg) {\n",
       "            var id = msg.content.text.trim();\n",
       "            if (id in Bokeh.index) {\n",
       "              Bokeh.index[id].model.document.clear();\n",
       "              delete Bokeh.index[id];\n",
       "            }\n",
       "          }\n",
       "        }\n",
       "      });\n",
       "      // Destroy server and session\n",
       "      var cmd = \"import bokeh.io.notebook as ion; ion.destroy_server('\" + server_id + \"')\";\n",
       "      cell.notebook.kernel.execute(cmd);\n",
       "    }\n",
       "  }\n",
       "\n",
       "  /**\n",
       "   * Handle when a new output is added\n",
       "   */\n",
       "  function handleAddOutput(event, handle) {\n",
       "    var output_area = handle.output_area;\n",
       "    var output = handle.output;\n",
       "\n",
       "    // limit handleAddOutput to display_data with EXEC_MIME_TYPE content only\n",
       "    if ((output.output_type != \"display_data\") || (!output.data.hasOwnProperty(EXEC_MIME_TYPE))) {\n",
       "      return\n",
       "    }\n",
       "\n",
       "    var toinsert = output_area.element.find(\".\" + CLASS_NAME.split(' ')[0]);\n",
       "\n",
       "    if (output.metadata[EXEC_MIME_TYPE][\"id\"] !== undefined) {\n",
       "      toinsert[toinsert.length - 1].firstChild.textContent = output.data[JS_MIME_TYPE];\n",
       "      // store reference to embed id on output_area\n",
       "      output_area._bokeh_element_id = output.metadata[EXEC_MIME_TYPE][\"id\"];\n",
       "    }\n",
       "    if (output.metadata[EXEC_MIME_TYPE][\"server_id\"] !== undefined) {\n",
       "      var bk_div = document.createElement(\"div\");\n",
       "      bk_div.innerHTML = output.data[HTML_MIME_TYPE];\n",
       "      var script_attrs = bk_div.children[0].attributes;\n",
       "      for (var i = 0; i < script_attrs.length; i++) {\n",
       "        toinsert[toinsert.length - 1].firstChild.setAttribute(script_attrs[i].name, script_attrs[i].value);\n",
       "      }\n",
       "      // store reference to server id on output_area\n",
       "      output_area._bokeh_server_id = output.metadata[EXEC_MIME_TYPE][\"server_id\"];\n",
       "    }\n",
       "  }\n",
       "\n",
       "  function register_renderer(events, OutputArea) {\n",
       "\n",
       "    function append_mime(data, metadata, element) {\n",
       "      // create a DOM node to render to\n",
       "      var toinsert = this.create_output_subarea(\n",
       "        metadata,\n",
       "        CLASS_NAME,\n",
       "        EXEC_MIME_TYPE\n",
       "      );\n",
       "      this.keyboard_manager.register_events(toinsert);\n",
       "      // Render to node\n",
       "      var props = {data: data, metadata: metadata[EXEC_MIME_TYPE]};\n",
       "      render(props, toinsert[toinsert.length - 1]);\n",
       "      element.append(toinsert);\n",
       "      return toinsert\n",
       "    }\n",
       "\n",
       "    /* Handle when an output is cleared or removed */\n",
       "    events.on('clear_output.CodeCell', handleClearOutput);\n",
       "    events.on('delete.Cell', handleClearOutput);\n",
       "\n",
       "    /* Handle when a new output is added */\n",
       "    events.on('output_added.OutputArea', handleAddOutput);\n",
       "\n",
       "    /**\n",
       "     * Register the mime type and append_mime function with output_area\n",
       "     */\n",
       "    OutputArea.prototype.register_mime_type(EXEC_MIME_TYPE, append_mime, {\n",
       "      /* Is output safe? */\n",
       "      safe: true,\n",
       "      /* Index of renderer in `output_area.display_order` */\n",
       "      index: 0\n",
       "    });\n",
       "  }\n",
       "\n",
       "  // register the mime type if in Jupyter Notebook environment and previously unregistered\n",
       "  if (root.Jupyter !== undefined) {\n",
       "    var events = require('base/js/events');\n",
       "    var OutputArea = require('notebook/js/outputarea').OutputArea;\n",
       "\n",
       "    if (OutputArea.prototype.mime_types().indexOf(EXEC_MIME_TYPE) == -1) {\n",
       "      register_renderer(events, OutputArea);\n",
       "    }\n",
       "  }\n",
       "\n",
       "  \n",
       "  if (typeof (root._bokeh_timeout) === \"undefined\" || force === true) {\n",
       "    root._bokeh_timeout = Date.now() + 5000;\n",
       "    root._bokeh_failed_load = false;\n",
       "  }\n",
       "\n",
       "  var NB_LOAD_WARNING = {'data': {'text/html':\n",
       "     \"<div style='background-color: #fdd'>\\n\"+\n",
       "     \"<p>\\n\"+\n",
       "     \"BokehJS does not appear to have successfully loaded. If loading BokehJS from CDN, this \\n\"+\n",
       "     \"may be due to a slow or bad network connection. Possible fixes:\\n\"+\n",
       "     \"</p>\\n\"+\n",
       "     \"<ul>\\n\"+\n",
       "     \"<li>re-rerun `output_notebook()` to attempt to load from CDN again, or</li>\\n\"+\n",
       "     \"<li>use INLINE resources instead, as so:</li>\\n\"+\n",
       "     \"</ul>\\n\"+\n",
       "     \"<code>\\n\"+\n",
       "     \"from bokeh.resources import INLINE\\n\"+\n",
       "     \"output_notebook(resources=INLINE)\\n\"+\n",
       "     \"</code>\\n\"+\n",
       "     \"</div>\"}};\n",
       "\n",
       "  function display_loaded() {\n",
       "    var el = document.getElementById(\"13092\");\n",
       "    if (el != null) {\n",
       "      el.textContent = \"BokehJS is loading...\";\n",
       "    }\n",
       "    if (root.Bokeh !== undefined) {\n",
       "      if (el != null) {\n",
       "        el.textContent = \"BokehJS \" + root.Bokeh.version + \" successfully loaded.\";\n",
       "      }\n",
       "    } else if (Date.now() < root._bokeh_timeout) {\n",
       "      setTimeout(display_loaded, 100)\n",
       "    }\n",
       "  }\n",
       "\n",
       "\n",
       "  function run_callbacks() {\n",
       "    try {\n",
       "      root._bokeh_onload_callbacks.forEach(function(callback) { callback() });\n",
       "    }\n",
       "    finally {\n",
       "      delete root._bokeh_onload_callbacks\n",
       "    }\n",
       "    console.info(\"Bokeh: all callbacks have finished\");\n",
       "  }\n",
       "\n",
       "  function load_libs(js_urls, callback) {\n",
       "    root._bokeh_onload_callbacks.push(callback);\n",
       "    if (root._bokeh_is_loading > 0) {\n",
       "      console.log(\"Bokeh: BokehJS is being loaded, scheduling callback at\", now());\n",
       "      return null;\n",
       "    }\n",
       "    if (js_urls == null || js_urls.length === 0) {\n",
       "      run_callbacks();\n",
       "      return null;\n",
       "    }\n",
       "    console.log(\"Bokeh: BokehJS not loaded, scheduling load and callback at\", now());\n",
       "    root._bokeh_is_loading = js_urls.length;\n",
       "    for (var i = 0; i < js_urls.length; i++) {\n",
       "      var url = js_urls[i];\n",
       "      var s = document.createElement('script');\n",
       "      s.src = url;\n",
       "      s.async = false;\n",
       "      s.onreadystatechange = s.onload = function() {\n",
       "        root._bokeh_is_loading--;\n",
       "        if (root._bokeh_is_loading === 0) {\n",
       "          console.log(\"Bokeh: all BokehJS libraries loaded\");\n",
       "          run_callbacks()\n",
       "        }\n",
       "      };\n",
       "      s.onerror = function() {\n",
       "        console.warn(\"failed to load library \" + url);\n",
       "      };\n",
       "      console.log(\"Bokeh: injecting script tag for BokehJS library: \", url);\n",
       "      document.getElementsByTagName(\"head\")[0].appendChild(s);\n",
       "    }\n",
       "  };var element = document.getElementById(\"13092\");\n",
       "  if (element == null) {\n",
       "    console.log(\"Bokeh: ERROR: autoload.js configured with elementid '13092' but no matching script tag was found. \")\n",
       "    return false;\n",
       "  }\n",
       "\n",
       "  var js_urls = [\"https://cdn.pydata.org/bokeh/release/bokeh-1.0.4.min.js\", \"https://cdn.pydata.org/bokeh/release/bokeh-widgets-1.0.4.min.js\", \"https://cdn.pydata.org/bokeh/release/bokeh-tables-1.0.4.min.js\", \"https://cdn.pydata.org/bokeh/release/bokeh-gl-1.0.4.min.js\"];\n",
       "\n",
       "  var inline_js = [\n",
       "    function(Bokeh) {\n",
       "      Bokeh.set_log_level(\"info\");\n",
       "    },\n",
       "    \n",
       "    function(Bokeh) {\n",
       "      \n",
       "    },\n",
       "    function(Bokeh) {\n",
       "      console.log(\"Bokeh: injecting CSS: https://cdn.pydata.org/bokeh/release/bokeh-1.0.4.min.css\");\n",
       "      Bokeh.embed.inject_css(\"https://cdn.pydata.org/bokeh/release/bokeh-1.0.4.min.css\");\n",
       "      console.log(\"Bokeh: injecting CSS: https://cdn.pydata.org/bokeh/release/bokeh-widgets-1.0.4.min.css\");\n",
       "      Bokeh.embed.inject_css(\"https://cdn.pydata.org/bokeh/release/bokeh-widgets-1.0.4.min.css\");\n",
       "      console.log(\"Bokeh: injecting CSS: https://cdn.pydata.org/bokeh/release/bokeh-tables-1.0.4.min.css\");\n",
       "      Bokeh.embed.inject_css(\"https://cdn.pydata.org/bokeh/release/bokeh-tables-1.0.4.min.css\");\n",
       "    }\n",
       "  ];\n",
       "\n",
       "  function run_inline_js() {\n",
       "    \n",
       "    if ((root.Bokeh !== undefined) || (force === true)) {\n",
       "      for (var i = 0; i < inline_js.length; i++) {\n",
       "        inline_js[i].call(root, root.Bokeh);\n",
       "      }if (force === true) {\n",
       "        display_loaded();\n",
       "      }} else if (Date.now() < root._bokeh_timeout) {\n",
       "      setTimeout(run_inline_js, 100);\n",
       "    } else if (!root._bokeh_failed_load) {\n",
       "      console.log(\"Bokeh: BokehJS failed to load within specified timeout.\");\n",
       "      root._bokeh_failed_load = true;\n",
       "    } else if (force !== true) {\n",
       "      var cell = $(document.getElementById(\"13092\")).parents('.cell').data().cell;\n",
       "      cell.output_area.append_execute_result(NB_LOAD_WARNING)\n",
       "    }\n",
       "\n",
       "  }\n",
       "\n",
       "  if (root._bokeh_is_loading === 0) {\n",
       "    console.log(\"Bokeh: BokehJS loaded, going straight to plotting\");\n",
       "    run_inline_js();\n",
       "  } else {\n",
       "    load_libs(js_urls, function() {\n",
       "      console.log(\"Bokeh: BokehJS plotting callback run at\", now());\n",
       "      run_inline_js();\n",
       "    });\n",
       "  }\n",
       "}(window));"
      ],
      "application/vnd.bokehjs_load.v0+json": "\n(function(root) {\n  function now() {\n    return new Date();\n  }\n\n  var force = true;\n\n  if (typeof (root._bokeh_onload_callbacks) === \"undefined\" || force === true) {\n    root._bokeh_onload_callbacks = [];\n    root._bokeh_is_loading = undefined;\n  }\n\n  \n\n  \n  if (typeof (root._bokeh_timeout) === \"undefined\" || force === true) {\n    root._bokeh_timeout = Date.now() + 5000;\n    root._bokeh_failed_load = false;\n  }\n\n  var NB_LOAD_WARNING = {'data': {'text/html':\n     \"<div style='background-color: #fdd'>\\n\"+\n     \"<p>\\n\"+\n     \"BokehJS does not appear to have successfully loaded. If loading BokehJS from CDN, this \\n\"+\n     \"may be due to a slow or bad network connection. Possible fixes:\\n\"+\n     \"</p>\\n\"+\n     \"<ul>\\n\"+\n     \"<li>re-rerun `output_notebook()` to attempt to load from CDN again, or</li>\\n\"+\n     \"<li>use INLINE resources instead, as so:</li>\\n\"+\n     \"</ul>\\n\"+\n     \"<code>\\n\"+\n     \"from bokeh.resources import INLINE\\n\"+\n     \"output_notebook(resources=INLINE)\\n\"+\n     \"</code>\\n\"+\n     \"</div>\"}};\n\n  function display_loaded() {\n    var el = document.getElementById(\"13092\");\n    if (el != null) {\n      el.textContent = \"BokehJS is loading...\";\n    }\n    if (root.Bokeh !== undefined) {\n      if (el != null) {\n        el.textContent = \"BokehJS \" + root.Bokeh.version + \" successfully loaded.\";\n      }\n    } else if (Date.now() < root._bokeh_timeout) {\n      setTimeout(display_loaded, 100)\n    }\n  }\n\n\n  function run_callbacks() {\n    try {\n      root._bokeh_onload_callbacks.forEach(function(callback) { callback() });\n    }\n    finally {\n      delete root._bokeh_onload_callbacks\n    }\n    console.info(\"Bokeh: all callbacks have finished\");\n  }\n\n  function load_libs(js_urls, callback) {\n    root._bokeh_onload_callbacks.push(callback);\n    if (root._bokeh_is_loading > 0) {\n      console.log(\"Bokeh: BokehJS is being loaded, scheduling callback at\", now());\n      return null;\n    }\n    if (js_urls == null || js_urls.length === 0) {\n      run_callbacks();\n      return null;\n    }\n    console.log(\"Bokeh: BokehJS not loaded, scheduling load and callback at\", now());\n    root._bokeh_is_loading = js_urls.length;\n    for (var i = 0; i < js_urls.length; i++) {\n      var url = js_urls[i];\n      var s = document.createElement('script');\n      s.src = url;\n      s.async = false;\n      s.onreadystatechange = s.onload = function() {\n        root._bokeh_is_loading--;\n        if (root._bokeh_is_loading === 0) {\n          console.log(\"Bokeh: all BokehJS libraries loaded\");\n          run_callbacks()\n        }\n      };\n      s.onerror = function() {\n        console.warn(\"failed to load library \" + url);\n      };\n      console.log(\"Bokeh: injecting script tag for BokehJS library: \", url);\n      document.getElementsByTagName(\"head\")[0].appendChild(s);\n    }\n  };var element = document.getElementById(\"13092\");\n  if (element == null) {\n    console.log(\"Bokeh: ERROR: autoload.js configured with elementid '13092' but no matching script tag was found. \")\n    return false;\n  }\n\n  var js_urls = [\"https://cdn.pydata.org/bokeh/release/bokeh-1.0.4.min.js\", \"https://cdn.pydata.org/bokeh/release/bokeh-widgets-1.0.4.min.js\", \"https://cdn.pydata.org/bokeh/release/bokeh-tables-1.0.4.min.js\", \"https://cdn.pydata.org/bokeh/release/bokeh-gl-1.0.4.min.js\"];\n\n  var inline_js = [\n    function(Bokeh) {\n      Bokeh.set_log_level(\"info\");\n    },\n    \n    function(Bokeh) {\n      \n    },\n    function(Bokeh) {\n      console.log(\"Bokeh: injecting CSS: https://cdn.pydata.org/bokeh/release/bokeh-1.0.4.min.css\");\n      Bokeh.embed.inject_css(\"https://cdn.pydata.org/bokeh/release/bokeh-1.0.4.min.css\");\n      console.log(\"Bokeh: injecting CSS: https://cdn.pydata.org/bokeh/release/bokeh-widgets-1.0.4.min.css\");\n      Bokeh.embed.inject_css(\"https://cdn.pydata.org/bokeh/release/bokeh-widgets-1.0.4.min.css\");\n      console.log(\"Bokeh: injecting CSS: https://cdn.pydata.org/bokeh/release/bokeh-tables-1.0.4.min.css\");\n      Bokeh.embed.inject_css(\"https://cdn.pydata.org/bokeh/release/bokeh-tables-1.0.4.min.css\");\n    }\n  ];\n\n  function run_inline_js() {\n    \n    if ((root.Bokeh !== undefined) || (force === true)) {\n      for (var i = 0; i < inline_js.length; i++) {\n        inline_js[i].call(root, root.Bokeh);\n      }if (force === true) {\n        display_loaded();\n      }} else if (Date.now() < root._bokeh_timeout) {\n      setTimeout(run_inline_js, 100);\n    } else if (!root._bokeh_failed_load) {\n      console.log(\"Bokeh: BokehJS failed to load within specified timeout.\");\n      root._bokeh_failed_load = true;\n    } else if (force !== true) {\n      var cell = $(document.getElementById(\"13092\")).parents('.cell').data().cell;\n      cell.output_area.append_execute_result(NB_LOAD_WARNING)\n    }\n\n  }\n\n  if (root._bokeh_is_loading === 0) {\n    console.log(\"Bokeh: BokehJS loaded, going straight to plotting\");\n    run_inline_js();\n  } else {\n    load_libs(js_urls, function() {\n      console.log(\"Bokeh: BokehJS plotting callback run at\", now());\n      run_inline_js();\n    });\n  }\n}(window));"
     },
     "metadata": {},
     "output_type": "display_data"
    }
   ],
   "source": [
    "\n",
    "#для bokeh\n",
    "from bokeh.layouts import column,row,layout\n",
    "from bokeh.models import ColumnDataSource, Slider, RadioButtonGroup,TableColumn, DataTable\n",
    "from bokeh.plotting import figure, output_file, show\n",
    "from bokeh.themes import Theme\n",
    "from bokeh.io import show, output_notebook, output_file \n",
    "from bokeh.layouts import widgetbox\n",
    "from bokeh.models.tools import HoverTool, PointDrawTool\n",
    "#прочие\n",
    "import pandas as pd\n",
    "import numpy as np\n",
    "from scipy import special\n",
    "import os\n",
    "import scipy as sp\n",
    "import matplotlib.pyplot as plt\n",
    "import pylab\n",
    "\n",
    "\n",
    "\n",
    "\n",
    "output_notebook() #для вывода в Jupyter Notebook"
   ]
  },
  {
   "cell_type": "markdown",
   "metadata": {},
   "source": [
    "Зададим исходные данные"
   ]
  },
  {
   "cell_type": "code",
   "execution_count": 54,
   "metadata": {},
   "outputs": [],
   "source": [
    "k_md=10\n",
    "mu_sp=1\n",
    "ct_1atm=5*10**(-5)\n",
    "rw_m=0.1\n",
    "q_m3day=10\n",
    "B_m3m3=1.2\n",
    "Pi_bar=250\n",
    "m=0.2\n",
    "h_m=1"
   ]
  },
  {
   "cell_type": "markdown",
   "metadata": {},
   "source": [
    "Создадим основные и вспомогательные функции"
   ]
  },
  {
   "cell_type": "code",
   "execution_count": 55,
   "metadata": {},
   "outputs": [],
   "source": [
    "\n",
    "def out(string1, result,string2=''): #выпод вычислений с комментариями\n",
    "    space='  '\n",
    "    print(string1 + space + str(result) + space + string2 + '\\n')\n",
    "\n",
    "\n",
    "#Инегральная экспонента и логарифмическая аппроксимация\n",
    "\n",
    "Ei=sp.special.expi  #f=-Ei(-x), используется в уравнении решения фильтрации\n",
    "E1=sp.special.exp1 #f=E1(x);   E1(x)=-Ei(-x)=-ln(x)-gammd\n",
    "ln=np.log\n",
    "\n",
    "def LogApprox(x): #логарифмическая аппроксимация, только для числа, не списка\n",
    "    gamma=0.57\n",
    "    #gamma=0.809\n",
    "    #result=(-1)*math.log(x)-gamma\n",
    "    result=(-1)*ln(x)-gamma\n",
    "    return result\n",
    "\n",
    "\n",
    "def genvaluesx(k,x0=0.001): #генерация значений x c множителем к\n",
    "    values=[float(x0)] #начальное значение\n",
    "    for i in range(20): #число элементов \n",
    "        values.append(values[i]*k)\n",
    "    result=np.asanyarray(values)\n",
    "    return result\n",
    "\n",
    "def save(name='', fmt='png'): #в текущей директории должна быть папка pictures\n",
    "    pwd = os.getcwd()\n",
    "    iPath = './{}'.format(fmt)\n",
    "    if not os.path.exists(iPath):\n",
    "        os.mkdir(iPath)\n",
    "    os.chdir(iPath)\n",
    "    plt.savefig('{}.{}'.format(name, fmt), fmt='png')\n",
    "    os.chdir(pwd)\n",
    "    \n",
    "\n",
    "def td(t,k=k_md,m=m,mu=mu_sp,ct=ct_1atm,rw=rw_m): #безразмерное время\n",
    "    result=0.00036*k*t/(m*mu*ct*rw*rw)\n",
    "    return result\n",
    "\n",
    "def pd_E1(rd,td): #безразмерное давление через интегрально экспоненциальную функцию\n",
    "    result=1/2*E1(rd**2/4/td)\n",
    "    return result\n",
    "\n",
    "#??? какая из функций\n",
    "def pd_ln(rd,td): #безравзерное давление через логарифм\n",
    "    #result=1/2*LogApprox(rd**2/4/td)\n",
    "    result=1/2*(ln(td/rd**2)+0.80907)\n",
    "    return result\n",
    "\n",
    "def rd(r,rw=rw_m): #безразмерное расстояние\n",
    "    result=r/rw\n",
    "    return result\n",
    "\n",
    "def pwf(pd,k=k_md,h=h_m,q=q_m3day,b=B_m3m3,mu=mu_sp,pi=Pi_bar): #преобразование безразмерного давления в размерное\n",
    "    result=pi-18.41*pd*q*b*mu/k/h\n",
    "    return result\n",
    "\n",
    "   \n",
    "def p(r,t,mod=1): #решение линейного стока \n",
    "    td1=td(t)\n",
    "    rd1=rd(r)\n",
    "    if mod==1: #решение линейного стока с помощью интегральной экспоненты\n",
    "        pd1=pd_E1(rd1,td1)\n",
    "        result=pwf(pd1)\n",
    "        return result\n",
    "    if mod==2: #решение линейного стока с помощью логарфима\n",
    "        pd1=pd_ln(rd1,td1)\n",
    "        result=pwf(pd1)\n",
    "        return result       \n",
    "\n",
    "def mistake(a,b): #вычисление относительной ошибки\n",
    "    result=(a-b)/a*100    \n",
    "    return np.absolute(result)\n",
    "    \n",
    "\n",
    "\n",
    " \n"
   ]
  },
  {
   "cell_type": "markdown",
   "metadata": {},
   "source": [
    "Выбор типа осей для построения ВСЕХ графиков. Для активации необходимо перезапустить ячейку с графиком"
   ]
  },
  {
   "cell_type": "code",
   "execution_count": 56,
   "metadata": {},
   "outputs": [
    {
     "data": {
      "application/vnd.bokehjs_exec.v0+json": "",
      "text/html": [
       "\n",
       "<script src=\"http://localhost:58635/autoload.js?bokeh-autoload-element=6542&bokeh-absolute-url=http://localhost:58635&resources=none\" id=\"6542\"></script>"
      ]
     },
     "metadata": {
      "application/vnd.bokehjs_exec.v0+json": {
       "server_id": "e404827e8cc046b384b8edf0787bbe78"
      }
     },
     "output_type": "display_data"
    }
   ],
   "source": [
    "#параметры, устанавливающие тип осей для ВСЕХ графиков, меняются через функцию(кнопки)\n",
    "ytype='linear' \n",
    "xtype='linear'\n",
    "def choiceaxis(): #вывод кнопок для смены типов осей\n",
    "    def modify_doc(doc):\n",
    "        def callback2(attr, old, new):\n",
    "            global xtype\n",
    "            global ytype \n",
    "            if new==0:\n",
    "                ytype='linear'\n",
    "                xtype='linear'\n",
    "            if new==1:\n",
    "                ytype='linear'\n",
    "                xtype='log'\n",
    "            if new==2:\n",
    "                ytype='log'\n",
    "                xtype='linear'       \n",
    "            if new==3:\n",
    "                ytype='log'\n",
    "                xtype='log'\n",
    "\n",
    "        button_group = RadioButtonGroup(labels=[\"y=f(x)\", \"y=ln(f(x))\", \"ln(y)=f(x)\",'ln(y)=ln(f(x))'], active=0)\n",
    "        button_group.on_change('active', callback2)\n",
    "        doc.add_root(button_group)       \n",
    "    show(modify_doc)\n",
    "choiceaxis()"
   ]
  },
  {
   "cell_type": "markdown",
   "metadata": {},
   "source": [
    "Интегральная экспонента  и ее логарифмическая аппроксимация"
   ]
  },
  {
   "cell_type": "code",
   "execution_count": 57,
   "metadata": {
    "scrolled": true
   },
   "outputs": [
    {
     "data": {
      "application/vnd.bokehjs_exec.v0+json": "",
      "text/html": [
       "\n",
       "<script src=\"http://localhost:58640/autoload.js?bokeh-autoload-element=6546&bokeh-absolute-url=http://localhost:58640&resources=none\" id=\"6546\"></script>"
      ]
     },
     "metadata": {
      "application/vnd.bokehjs_exec.v0+json": {
       "server_id": "f7a14206be2c4463990c1b4269fe7789"
      }
     },
     "output_type": "display_data"
    }
   ],
   "source": [
    "#исходные данные для построения графика\n",
    "valuesx=genvaluesx(1.1)\n",
    "data33 = {'x_values': valuesx,\n",
    "        'y_values': E1(valuesx),\n",
    "        'y_values2': LogApprox(valuesx),\n",
    "         'mistake': mistake(E1(valuesx),LogApprox(valuesx))}\n",
    "\n",
    "data2 = pd.DataFrame(data33)\n",
    "\n",
    "def modify_doc(doc):\n",
    "    source2 = ColumnDataSource(data=data2)    #место, где хранятся данные фигуры\n",
    "    plot1 = figure(title=\"E и Ln\", x_axis_label='x', y_axis_label='E1(x) и Ln(x)',x_axis_type=xtype, y_axis_type=ytype)\n",
    "    def plotline():\n",
    "        plot1.line('x_values', 'y_values', color=\"red\", source=source2, legend='E(x)',name='E(x)')\n",
    "        plot1.line('x_values', 'y_values2', color=\"blue\", source=source2, legend='-ln(x)-0.57',name='Ln(x)')\n",
    "        #plot1.line('x_values', 'mistake', color=\"green\", source=source2, legend='Ошибка',name='Ошибка')\n",
    "    plotline()\n",
    "    def callback(attr, old, new): #при выполнении события для слайдера\n",
    "        data=data2.copy()\n",
    "        if new == 0:\n",
    "            data=data2.copy()\n",
    "        else:\n",
    "            valuesx=genvaluesx(new)\n",
    "            data['x_values']=valuesx\n",
    "            data['y_values']=E1(valuesx)\n",
    "            data['y_values2']=LogApprox(valuesx)       \n",
    "        source2.data = ColumnDataSource(data=data).data  \n",
    "    slider = Slider(start=1.1, end=2, value=1.1, step=0.1, title=\"Множитель к, расширяющий ось x\") #отображение слайдера\n",
    "    slider.on_change('value', callback) #события для слайдера, вызывающее функции\n",
    "    doc.add_root(layout([[slider],[plot1]]))\n",
    "    \n",
    "show(modify_doc)"
   ]
  },
  {
   "cell_type": "markdown",
   "metadata": {},
   "source": [
    "Решение линейного стока p(t)"
   ]
  },
  {
   "cell_type": "code",
   "execution_count": 58,
   "metadata": {
    "scrolled": true
   },
   "outputs": [
    {
     "data": {
      "application/vnd.bokehjs_exec.v0+json": "",
      "text/html": [
       "\n",
       "<script src=\"http://localhost:58650/autoload.js?bokeh-autoload-element=6901&bokeh-absolute-url=http://localhost:58650&resources=none\" id=\"6901\"></script>"
      ]
     },
     "metadata": {
      "application/vnd.bokehjs_exec.v0+json": {
       "server_id": "08f6de9ff600427093782f365c086afb"
      }
     },
     "output_type": "display_data"
    }
   ],
   "source": [
    "choiceaxis()"
   ]
  },
  {
   "cell_type": "code",
   "execution_count": 59,
   "metadata": {},
   "outputs": [
    {
     "data": {
      "application/vnd.bokehjs_exec.v0+json": "",
      "text/html": [
       "\n",
       "<script src=\"http://localhost:58655/autoload.js?bokeh-autoload-element=6905&bokeh-absolute-url=http://localhost:58655&resources=none\" id=\"6905\"></script>"
      ]
     },
     "metadata": {
      "application/vnd.bokehjs_exec.v0+json": {
       "server_id": "2067bbc5730c4d5b9817fe9dc89bccf9"
      }
     },
     "output_type": "display_data"
    }
   ],
   "source": [
    "t0=2*10**(-7)\n",
    "valuesx=genvaluesx(1.3,t0)\n",
    "\n",
    "data33 = {'x_values': valuesx,\n",
    "        'y_values':p(0.1,valuesx),\n",
    "        'y_values2': p(0.1,valuesx,2),\n",
    "         'mistake': mistake(E1(valuesx),LogApprox(valuesx))}\n",
    "\n",
    "data2 = pd.DataFrame(data33)\n",
    "\n",
    "def modify_doc(doc):\n",
    "    source2 = ColumnDataSource(data=data2)  \n",
    "    plot1 = figure(title=\"P(t), r=0.1\", x_axis_label='t', y_axis_label='P',x_axis_type=xtype, y_axis_type=ytype)\n",
    "    def plotline():\n",
    "        plot1.line('x_values', 'y_values', color=\"red\", source=source2, legend='через E(x)',name='E(x)')\n",
    "        plot1.line('x_values', 'y_values2', color=\"blue\", source=source2, legend='через ln(x)',name='Ln(x)')\n",
    "    plotline()\n",
    "    def callback(attr, old, new):\n",
    "        data=data2.copy()\n",
    "        if new == 0:\n",
    "            data=data2.copy()\n",
    "        else:\n",
    "            valuesx=genvaluesx(new,t0)\n",
    "            data['x_values']=valuesx\n",
    "            data['y_values']=p(0.1,valuesx)\n",
    "            data['y_values2']=p(0.1,valuesx,2)\n",
    "        source2.data = ColumnDataSource(data=data).data  \n",
    "    slider = Slider(start=1.1, end=2, value=1.3, step=0.1, title=\"Множитель к, расширяющий ось x\")\n",
    "    slider.on_change('value', callback)\n",
    "    doc.add_root(layout([[slider],[plot1]]))\n",
    "\n",
    "    \n",
    "show(modify_doc)"
   ]
  },
  {
   "cell_type": "code",
   "execution_count": 60,
   "metadata": {
    "scrolled": true
   },
   "outputs": [
    {
     "data": {
      "application/vnd.bokehjs_exec.v0+json": "",
      "text/html": [
       "\n",
       "<script src=\"http://localhost:58664/autoload.js?bokeh-autoload-element=7277&bokeh-absolute-url=http://localhost:58664&resources=none\" id=\"7277\"></script>"
      ]
     },
     "metadata": {
      "application/vnd.bokehjs_exec.v0+json": {
       "server_id": "b60c7e5db2604d20970df8e7f00730b6"
      }
     },
     "output_type": "display_data"
    }
   ],
   "source": [
    "choiceaxis()"
   ]
  },
  {
   "cell_type": "markdown",
   "metadata": {},
   "source": [
    "Решение линейного стока #3 p(r,t)"
   ]
  },
  {
   "cell_type": "code",
   "execution_count": 61,
   "metadata": {},
   "outputs": [
    {
     "data": {
      "application/vnd.bokehjs_exec.v0+json": "",
      "text/html": [
       "\n",
       "<script src=\"http://localhost:58668/autoload.js?bokeh-autoload-element=7281&bokeh-absolute-url=http://localhost:58668&resources=none\" id=\"7281\"></script>"
      ]
     },
     "metadata": {
      "application/vnd.bokehjs_exec.v0+json": {
       "server_id": "f587255276434e68949a8fb055aae97e"
      }
     },
     "output_type": "display_data"
    }
   ],
   "source": [
    "r0=0.1\n",
    "t=1\n",
    "valuesx=genvaluesx(1.3,r0)\n",
    "#ymistake=mistake(E1(valuesx),LogApprox(valuesx))\n",
    "data33 = {'x_values': valuesx,\n",
    "        'y_values':p(valuesx,t),\n",
    "        'y_values2': p(valuesx,t,2),\n",
    "         'mistake': mistake(E1(valuesx),LogApprox(valuesx)),\n",
    "         'initialp': valuesx*0+Pi_bar}\n",
    "\n",
    "data2 = pd.DataFrame(data33)\n",
    "\n",
    "def modify_doc(doc):\n",
    "    source2 = ColumnDataSource(data=data2)  \n",
    "    plot1 = figure(title=\"P(r,t), rw=0.1\", x_axis_label='r,м', y_axis_label='P, атм',x_axis_type=xtype, y_axis_type=ytype)\n",
    "    \n",
    "    plot1.line('x_values', 'y_values', color=\"red\", source=source2, legend='через E(x)',name='E(x)')\n",
    "    plot1.line('x_values', 'y_values2', color=\"blue\", source=source2, legend='через ln(x)',name='Ln(x)')\n",
    "    plot1.line('x_values', 'initialp', color=\"green\", source=source2, legend='Pi',name='Pi')\n",
    "    \n",
    "    def callback(attr, old, new):\n",
    "        data=data2\n",
    "        if new == 0:\n",
    "            data=data2.copy()\n",
    "        else:\n",
    "            valuesx=genvaluesx(new,r0)\n",
    "            data['initialp']=valuesx*0+Pi_bar\n",
    "            data['x_values']=valuesx\n",
    "            data['y_values']=p(valuesx,t)\n",
    "            data['y_values2']=p(valuesx,t,2)\n",
    "        source2.data = ColumnDataSource(data=data).data  \n",
    "    \n",
    "    def callback2(attr, old, new):\n",
    "        data=data2\n",
    "        if new == 0:\n",
    "            data=data2.copy()\n",
    "        else:\n",
    "            data['y_values']=p(data['x_values'],new)\n",
    "            data['y_values2']=p(data['x_values'],new,2)\n",
    "        source2.data = ColumnDataSource(data=data).data  \n",
    "    \n",
    "    slider = Slider(start=1.1, end=2, value=1.3, step=0.05, title=\"Множитель к, расширяющий ось x\")\n",
    "    slider.on_change('value', callback)\n",
    "    slidert = Slider(start=1/(10**3), end=100, value=0.01, step=0.01, title=\"Время\")\n",
    "    slidert.on_change('value', callback2)\n",
    "    doc.add_root(layout([[slider,slidert],[plot1]]))\n",
    "\n",
    "    \n",
    "show(modify_doc)"
   ]
  },
  {
   "cell_type": "code",
   "execution_count": 79,
   "metadata": {},
   "outputs": [
    {
     "data": {
      "application/vnd.bokehjs_exec.v0+json": "",
      "text/html": [
       "\n",
       "<script src=\"http://localhost:60437/autoload.js?bokeh-autoload-element=13795&bokeh-absolute-url=http://localhost:60437&resources=none\" id=\"13795\"></script>"
      ]
     },
     "metadata": {
      "application/vnd.bokehjs_exec.v0+json": {
       "server_id": "6d5073f8f38540dd8648ec564e57c843"
      }
     },
     "output_type": "display_data"
    }
   ],
   "source": [
    "r0=0.1\n",
    "t=1\n",
    "valuesx=genvaluesx(1.3,r0)\n",
    "#ymistake=mistake(E1(valuesx),LogApprox(valuesx))\n",
    "data33 = {'x_values': valuesx,\n",
    "        'y_values':p(valuesx,t),\n",
    "        'y_values2': p(valuesx,t,2),\n",
    "         'mistake': mistake(E1(valuesx),LogApprox(valuesx)),\n",
    "         'initialp': valuesx*0+Pi_bar,\n",
    "         'x':valuesx*0,\n",
    "         'y':valuesx*0}\n",
    "\n",
    "data2 = pd.DataFrame(data33)\n",
    "\n",
    "def modify_doc(doc):\n",
    "    source2 = ColumnDataSource(data=data2)  \n",
    "    plot1 = figure(title=\"P(r,t), rw=0.1\", x_axis_label='r,м', y_axis_label='P, атм',x_axis_type=xtype, y_axis_type=ytype)\n",
    "    \n",
    "    plot1.line('x_values', 'y_values', color=\"red\", source=source2, legend='через E(x)',name='E(x)')\n",
    "    plot1.line('x_values', 'y_values2', color=\"blue\", source=source2, legend='через ln(x)',name='Ln(x)')\n",
    "    plot1.line('x_values', 'initialp', color=\"green\", source=source2, legend='Pi',name='Pi')\n",
    "    r1 = plot1.rect('x', 'y', 0.1, 0.1, source=source2)\n",
    "\n",
    "    plot1.add_tools(PointDrawTool(renderers=[r1]))\n",
    "    columns=[TableColumn(field='x',title='x'),\n",
    "            TableColumn(field='y',title='y')]\n",
    "    table=DataTable(source=source2,columns=columns, editable=True)\n",
    "    def callback(attr, old, new):\n",
    "        data=data2\n",
    "        if new == 0:\n",
    "            data=data2.copy()\n",
    "        else:\n",
    "            valuesx=genvaluesx(new,r0)\n",
    "            data['initialp']=valuesx*0+Pi_bar\n",
    "            data['x_values']=valuesx\n",
    "            data['y_values']=p(valuesx,t)\n",
    "            data['y_values2']=p(valuesx,t,2)\n",
    "        source2.data = ColumnDataSource(data=data).data  \n",
    "    \n",
    "    def callback2(attr, old, new):\n",
    "        data=data2\n",
    "        if new == 0:\n",
    "            data=data2.copy()\n",
    "        else:\n",
    "            data['y_values']=p(data['x_values'],new)\n",
    "            data['y_values2']=p(data['x_values'],new,2)\n",
    "        source2.data = ColumnDataSource(data=data).data  \n",
    "    \n",
    "    slider = Slider(start=1.1, end=2, value=1.3, step=0.05, title=\"Множитель к, расширяющий ось x\")\n",
    "    slider.on_change('value', callback)\n",
    "    slidert = Slider(start=1/(10**3), end=100, value=0.01, step=0.01, title=\"Время\")\n",
    "    slidert.on_change('value', callback2)\n",
    "    doc.add_root(layout([[slider,slidert],[plot1],[table]]))\n",
    "    \n",
    "    \n",
    "show(modify_doc)"
   ]
  },
  {
   "cell_type": "code",
   "execution_count": null,
   "metadata": {},
   "outputs": [],
   "source": []
  },
  {
   "cell_type": "code",
   "execution_count": null,
   "metadata": {},
   "outputs": [],
   "source": []
  },
  {
   "cell_type": "code",
   "execution_count": null,
   "metadata": {},
   "outputs": [],
   "source": []
  },
  {
   "cell_type": "code",
   "execution_count": null,
   "metadata": {},
   "outputs": [],
   "source": []
  },
  {
   "cell_type": "code",
   "execution_count": null,
   "metadata": {},
   "outputs": [],
   "source": []
  },
  {
   "cell_type": "code",
   "execution_count": 47,
   "metadata": {},
   "outputs": [
    {
     "data": {
      "text/html": [
       "\n",
       "\n",
       "\n",
       "\n",
       "\n",
       "\n",
       "  <div class=\"bk-root\" id=\"07759680-bc7f-4a74-81f0-24455fcbefe4\" data-root-id=\"5796\"></div>\n"
      ]
     },
     "metadata": {},
     "output_type": "display_data"
    },
    {
     "data": {
      "application/javascript": [
       "(function(root) {\n",
       "  function embed_document(root) {\n",
       "    \n",
       "  var docs_json = {\"9527fce5-f25e-4f2f-860d-4af49cb14467\":{\"roots\":{\"references\":[{\"attributes\":{\"below\":[{\"id\":\"5805\",\"type\":\"LinearAxis\"}],\"left\":[{\"id\":\"5810\",\"type\":\"LinearAxis\"}],\"renderers\":[{\"id\":\"5805\",\"type\":\"LinearAxis\"},{\"id\":\"5809\",\"type\":\"Grid\"},{\"id\":\"5810\",\"type\":\"LinearAxis\"},{\"id\":\"5814\",\"type\":\"Grid\"},{\"id\":\"5823\",\"type\":\"BoxAnnotation\"},{\"id\":\"5833\",\"type\":\"GlyphRenderer\"},{\"id\":\"5838\",\"type\":\"GlyphRenderer\"}],\"title\":{\"id\":\"5969\",\"type\":\"Title\"},\"toolbar\":{\"id\":\"5821\",\"type\":\"Toolbar\"},\"x_range\":{\"id\":\"5797\",\"type\":\"DataRange1d\"},\"x_scale\":{\"id\":\"5801\",\"type\":\"LinearScale\"},\"y_range\":{\"id\":\"5799\",\"type\":\"DataRange1d\"},\"y_scale\":{\"id\":\"5803\",\"type\":\"LinearScale\"}},\"id\":\"5796\",\"subtype\":\"Figure\",\"type\":\"Plot\"},{\"attributes\":{\"renderers\":[{\"id\":\"5838\",\"type\":\"GlyphRenderer\"}]},\"id\":\"5840\",\"type\":\"PointDrawTool\"},{\"attributes\":{},\"id\":\"5815\",\"type\":\"PanTool\"},{\"attributes\":{},\"id\":\"5806\",\"type\":\"BasicTicker\"},{\"attributes\":{\"active_drag\":\"auto\",\"active_inspect\":\"auto\",\"active_multi\":null,\"active_scroll\":\"auto\",\"active_tap\":\"auto\",\"tools\":[{\"id\":\"5815\",\"type\":\"PanTool\"},{\"id\":\"5816\",\"type\":\"WheelZoomTool\"},{\"id\":\"5817\",\"type\":\"BoxZoomTool\"},{\"id\":\"5818\",\"type\":\"SaveTool\"},{\"id\":\"5819\",\"type\":\"ResetTool\"},{\"id\":\"5820\",\"type\":\"HelpTool\"},{\"id\":\"5840\",\"type\":\"PointDrawTool\"}]},\"id\":\"5821\",\"type\":\"Toolbar\"},{\"attributes\":{\"bottom_units\":\"screen\",\"fill_alpha\":{\"value\":0.5},\"fill_color\":{\"value\":\"lightgrey\"},\"left_units\":\"screen\",\"level\":\"overlay\",\"line_alpha\":{\"value\":1.0},\"line_color\":{\"value\":\"black\"},\"line_dash\":[4,4],\"line_width\":{\"value\":2},\"plot\":null,\"render_mode\":\"css\",\"right_units\":\"screen\",\"top_units\":\"screen\"},\"id\":\"5823\",\"type\":\"BoxAnnotation\"},{\"attributes\":{},\"id\":\"5803\",\"type\":\"LinearScale\"},{\"attributes\":{\"overlay\":{\"id\":\"5823\",\"type\":\"BoxAnnotation\"}},\"id\":\"5817\",\"type\":\"BoxZoomTool\"},{\"attributes\":{},\"id\":\"5818\",\"type\":\"SaveTool\"},{\"attributes\":{\"callback\":null},\"id\":\"5797\",\"type\":\"DataRange1d\"},{\"attributes\":{},\"id\":\"5819\",\"type\":\"ResetTool\"},{\"attributes\":{\"fill_alpha\":{\"value\":0.1},\"fill_color\":{\"value\":\"#1f77b4\"},\"height\":{\"units\":\"data\",\"value\":0.1},\"line_alpha\":{\"value\":0.1},\"line_color\":{\"value\":\"#1f77b4\"},\"width\":{\"units\":\"data\",\"value\":0.1},\"x\":{\"field\":\"x2\"},\"y\":{\"field\":\"y2\"}},\"id\":\"5832\",\"type\":\"Rect\"},{\"attributes\":{},\"id\":\"5976\",\"type\":\"UnionRenderers\"},{\"attributes\":{},\"id\":\"5811\",\"type\":\"BasicTicker\"},{\"attributes\":{\"data_source\":{\"id\":\"5795\",\"type\":\"ColumnDataSource\"},\"glyph\":{\"id\":\"5831\",\"type\":\"Rect\"},\"hover_glyph\":null,\"muted_glyph\":null,\"nonselection_glyph\":{\"id\":\"5832\",\"type\":\"Rect\"},\"selection_glyph\":null,\"view\":{\"id\":\"5834\",\"type\":\"CDSView\"}},\"id\":\"5833\",\"type\":\"GlyphRenderer\"},{\"attributes\":{},\"id\":\"5820\",\"type\":\"HelpTool\"},{\"attributes\":{\"formatter\":{\"id\":\"5972\",\"type\":\"BasicTickFormatter\"},\"plot\":{\"id\":\"5796\",\"subtype\":\"Figure\",\"type\":\"Plot\"},\"ticker\":{\"id\":\"5806\",\"type\":\"BasicTicker\"}},\"id\":\"5805\",\"type\":\"LinearAxis\"},{\"attributes\":{\"fill_alpha\":{\"value\":0.1},\"fill_color\":{\"value\":\"#1f77b4\"},\"height\":{\"units\":\"data\",\"value\":0.1},\"line_alpha\":{\"value\":0.1},\"line_color\":{\"value\":\"#1f77b4\"},\"width\":{\"units\":\"data\",\"value\":0.1},\"x\":{\"field\":\"x\"},\"y\":{\"field\":\"y\"}},\"id\":\"5837\",\"type\":\"Rect\"},{\"attributes\":{\"callback\":null,\"data\":{\"index\":[0,1,2],\"x\":[0,0,0],\"x2\":[0,1,2],\"y\":[0,0,0],\"y2\":[0,1,2]},\"selected\":{\"id\":\"5975\",\"type\":\"Selection\"},\"selection_policy\":{\"id\":\"5976\",\"type\":\"UnionRenderers\"}},\"id\":\"5795\",\"type\":\"ColumnDataSource\"},{\"attributes\":{},\"id\":\"5972\",\"type\":\"BasicTickFormatter\"},{\"attributes\":{},\"id\":\"5970\",\"type\":\"BasicTickFormatter\"},{\"attributes\":{\"dimension\":1,\"plot\":{\"id\":\"5796\",\"subtype\":\"Figure\",\"type\":\"Plot\"},\"ticker\":{\"id\":\"5811\",\"type\":\"BasicTicker\"}},\"id\":\"5814\",\"type\":\"Grid\"},{\"attributes\":{},\"id\":\"5816\",\"type\":\"WheelZoomTool\"},{\"attributes\":{\"source\":{\"id\":\"5795\",\"type\":\"ColumnDataSource\"}},\"id\":\"5834\",\"type\":\"CDSView\"},{\"attributes\":{},\"id\":\"5801\",\"type\":\"LinearScale\"},{\"attributes\":{\"plot\":null,\"text\":\"\"},\"id\":\"5969\",\"type\":\"Title\"},{\"attributes\":{},\"id\":\"5975\",\"type\":\"Selection\"},{\"attributes\":{\"plot\":{\"id\":\"5796\",\"subtype\":\"Figure\",\"type\":\"Plot\"},\"ticker\":{\"id\":\"5806\",\"type\":\"BasicTicker\"}},\"id\":\"5809\",\"type\":\"Grid\"},{\"attributes\":{\"fill_color\":{\"value\":\"#1f77b4\"},\"height\":{\"units\":\"data\",\"value\":0.1},\"line_color\":{\"value\":\"#1f77b4\"},\"width\":{\"units\":\"data\",\"value\":0.1},\"x\":{\"field\":\"x\"},\"y\":{\"field\":\"y\"}},\"id\":\"5836\",\"type\":\"Rect\"},{\"attributes\":{\"source\":{\"id\":\"5795\",\"type\":\"ColumnDataSource\"}},\"id\":\"5839\",\"type\":\"CDSView\"},{\"attributes\":{\"formatter\":{\"id\":\"5970\",\"type\":\"BasicTickFormatter\"},\"plot\":{\"id\":\"5796\",\"subtype\":\"Figure\",\"type\":\"Plot\"},\"ticker\":{\"id\":\"5811\",\"type\":\"BasicTicker\"}},\"id\":\"5810\",\"type\":\"LinearAxis\"},{\"attributes\":{\"fill_color\":{\"value\":\"#1f77b4\"},\"height\":{\"units\":\"data\",\"value\":0.1},\"line_color\":{\"value\":\"#1f77b4\"},\"width\":{\"units\":\"data\",\"value\":0.1},\"x\":{\"field\":\"x2\"},\"y\":{\"field\":\"y2\"}},\"id\":\"5831\",\"type\":\"Rect\"},{\"attributes\":{\"data_source\":{\"id\":\"5795\",\"type\":\"ColumnDataSource\"},\"glyph\":{\"id\":\"5836\",\"type\":\"Rect\"},\"hover_glyph\":null,\"muted_glyph\":null,\"nonselection_glyph\":{\"id\":\"5837\",\"type\":\"Rect\"},\"selection_glyph\":null,\"view\":{\"id\":\"5839\",\"type\":\"CDSView\"}},\"id\":\"5838\",\"type\":\"GlyphRenderer\"},{\"attributes\":{\"callback\":null},\"id\":\"5799\",\"type\":\"DataRange1d\"}],\"root_ids\":[\"5796\"]},\"title\":\"Bokeh Application\",\"version\":\"1.0.4\"}};\n",
       "  var render_items = [{\"docid\":\"9527fce5-f25e-4f2f-860d-4af49cb14467\",\"roots\":{\"5796\":\"07759680-bc7f-4a74-81f0-24455fcbefe4\"}}];\n",
       "  root.Bokeh.embed.embed_items_notebook(docs_json, render_items);\n",
       "\n",
       "  }\n",
       "  if (root.Bokeh !== undefined) {\n",
       "    embed_document(root);\n",
       "  } else {\n",
       "    var attempts = 0;\n",
       "    var timer = setInterval(function(root) {\n",
       "      if (root.Bokeh !== undefined) {\n",
       "        embed_document(root);\n",
       "        clearInterval(timer);\n",
       "      }\n",
       "      attempts++;\n",
       "      if (attempts > 100) {\n",
       "        console.log(\"Bokeh: ERROR: Unable to run BokehJS code because BokehJS library is missing\");\n",
       "        clearInterval(timer);\n",
       "      }\n",
       "    }, 10, root)\n",
       "  }\n",
       "})(window);"
      ],
      "application/vnd.bokehjs_exec.v0+json": ""
     },
     "metadata": {
      "application/vnd.bokehjs_exec.v0+json": {
       "id": "5796"
      }
     },
     "output_type": "display_data"
    },
    {
     "data": {
      "application/vnd.bokehjs_exec.v0+json": "",
      "text/html": [
       "\n",
       "<script src=\"http://localhost:58530/autoload.js?bokeh-autoload-element=6031&bokeh-absolute-url=http://localhost:58530&resources=none\" id=\"6031\"></script>"
      ]
     },
     "metadata": {
      "application/vnd.bokehjs_exec.v0+json": {
       "server_id": "2ee5a1dbfa544187b7347523aef201bd"
      }
     },
     "output_type": "display_data"
    },
    {
     "name": "stderr",
     "output_type": "stream",
     "text": [
      "ERROR:tornado.application:Uncaught exception GET /autoload.js?bokeh-autoload-element=6031&bokeh-absolute-url=http://localhost:58530&resources=none (::1)\n",
      "HTTPServerRequest(protocol='http', host='localhost:58530', method='GET', uri='/autoload.js?bokeh-autoload-element=6031&bokeh-absolute-url=http://localhost:58530&resources=none', version='HTTP/1.1', remote_ip='::1')\n",
      "Traceback (most recent call last):\n",
      "  File \"C:\\ProgramData\\PPythonAnacondaOneLove\\lib\\site-packages\\tornado\\web.py\", line 1592, in _execute\n",
      "    result = yield result\n",
      "  File \"C:\\ProgramData\\PPythonAnacondaOneLove\\lib\\site-packages\\tornado\\gen.py\", line 1133, in run\n",
      "    value = future.result()\n",
      "  File \"C:\\ProgramData\\PPythonAnacondaOneLove\\lib\\site-packages\\tornado\\gen.py\", line 1141, in run\n",
      "    yielded = self.gen.throw(*exc_info)\n",
      "  File \"C:\\ProgramData\\PPythonAnacondaOneLove\\lib\\site-packages\\bokeh\\server\\views\\autoload_js_handler.py\", line 60, in get\n",
      "    session = yield self.get_session()\n",
      "  File \"C:\\ProgramData\\PPythonAnacondaOneLove\\lib\\site-packages\\tornado\\gen.py\", line 1133, in run\n",
      "    value = future.result()\n",
      "  File \"C:\\ProgramData\\PPythonAnacondaOneLove\\lib\\site-packages\\tornado\\gen.py\", line 1141, in run\n",
      "    yielded = self.gen.throw(*exc_info)\n",
      "  File \"C:\\ProgramData\\PPythonAnacondaOneLove\\lib\\site-packages\\bokeh\\server\\views\\session_handler.py\", line 77, in get_session\n",
      "    session = yield self.application_context.create_session_if_needed(session_id, self.request)\n",
      "  File \"C:\\ProgramData\\PPythonAnacondaOneLove\\lib\\site-packages\\tornado\\gen.py\", line 1133, in run\n",
      "    value = future.result()\n",
      "  File \"C:\\ProgramData\\PPythonAnacondaOneLove\\lib\\site-packages\\tornado\\gen.py\", line 1147, in run\n",
      "    yielded = self.gen.send(value)\n",
      "  File \"C:\\ProgramData\\PPythonAnacondaOneLove\\lib\\site-packages\\bokeh\\server\\contexts.py\", line 215, in create_session_if_needed\n",
      "    self._application.initialize_document(doc)\n",
      "  File \"C:\\ProgramData\\PPythonAnacondaOneLove\\lib\\site-packages\\bokeh\\application\\application.py\", line 178, in initialize_document\n",
      "    h.modify_document(doc)\n",
      "  File \"C:\\ProgramData\\PPythonAnacondaOneLove\\lib\\site-packages\\bokeh\\application\\handlers\\function.py\", line 133, in modify_document\n",
      "    self._func(doc)\n",
      "  File \"<ipython-input-47-d1dc10e2c88c>\", line 55, in modify_doc2\n",
      "    doc22.add_root(layout([[plot1]]))\n",
      "  File \"C:\\ProgramData\\PPythonAnacondaOneLove\\lib\\site-packages\\bokeh\\document\\document.py\", line 304, in add_root\n",
      "    self._pop_all_models_freeze()\n",
      "  File \"C:\\ProgramData\\PPythonAnacondaOneLove\\lib\\site-packages\\bokeh\\document\\document.py\", line 1018, in _pop_all_models_freeze\n",
      "    self._recompute_all_models()\n",
      "  File \"C:\\ProgramData\\PPythonAnacondaOneLove\\lib\\site-packages\\bokeh\\document\\document.py\", line 1041, in _recompute_all_models\n",
      "    a._attach_document(self)\n",
      "  File \"C:\\ProgramData\\PPythonAnacondaOneLove\\lib\\site-packages\\bokeh\\model.py\", line 609, in _attach_document\n",
      "    raise RuntimeError(\"Models must be owned by only a single document, %r is already in a doc\" % (self))\n",
      "RuntimeError: Models must be owned by only a single document, UnionRenderers(id='5976', ...) is already in a doc\n",
      "ERROR:tornado.access:500 GET /autoload.js?bokeh-autoload-element=6031&bokeh-absolute-url=http://localhost:58530&resources=none (::1) 121.77ms\n",
      "ERROR:bokeh.core.validation.check:E-1001 (BAD_COLUMN_NAME): Glyph refers to nonexistent column name. This could either be due to a misspelling or typo, or due to an expected column being missing. : key \"x\" value \"x_values\", key \"y\" value \"initialp\" [renderer: GlyphRenderer(id='6303', ...)]\n",
      "ERROR:bokeh.core.validation.check:E-1001 (BAD_COLUMN_NAME): Glyph refers to nonexistent column name. This could either be due to a misspelling or typo, or due to an expected column being missing. : key \"x\" value \"x_values\", key \"y\" value \"y_values\" [renderer: GlyphRenderer(id='6276', ...)]\n",
      "ERROR:bokeh.core.validation.check:E-1001 (BAD_COLUMN_NAME): Glyph refers to nonexistent column name. This could either be due to a misspelling or typo, or due to an expected column being missing. : key \"x\" value \"x_values\", key \"y\" value \"y_values2\" [renderer: GlyphRenderer(id='6289', ...)]\n"
     ]
    }
   ],
   "source": [
    "a=[0,0,0]\n",
    "b=[0,0,0]\n",
    "c=[0,1,2]\n",
    "d=[0,1,2]\n",
    "r0=0.1\n",
    "t=1\n",
    "valuesx=genvaluesx(1.3,r0)\n",
    "data33 = {'x':a,\n",
    "         'y':b,\n",
    "         'y2':c,\n",
    "         'x2':d}\n",
    "\n",
    "data2 = pd.DataFrame(data33)\n",
    "\n",
    "source = ColumnDataSource(data2) \n",
    "p=figure()\n",
    "p.rect('x2','y2',0.1, 0.1,source=source)\n",
    "#c1 = p.circle('x', 'y', source=source)\n",
    "r1 = p.rect('x', 'y', 0.1, 0.1, source=source)\n",
    "#tool = PointDrawTool(renderers=[c1, r1])\n",
    "#plot = figure(tools=\"pan,wheel_zoom,box_zoom,reset\")\n",
    "p.add_tools(PointDrawTool(renderers=[r1]))\n",
    "show(p)\n",
    "\n",
    "def modify_doc2(doc22):\n",
    "    source2 = ColumnDataSource(data=data2)  \n",
    "    plot1 = figure(title=\"P(r,t), rw=0.1\", x_axis_label='r,м', y_axis_label='P, атм',x_axis_type=xtype, y_axis_type=ytype)\n",
    "    \n",
    "    plot1.line('x', 'y', color=\"red\", source=source2, legend='через E(x)',name='E(x)')\n",
    "    r1 = plot1.rect('x', 'y', 0.1, 0.1, source=source)\n",
    "\n",
    "    p.add_tools(PointDrawTool(renderers=[r1]))\n",
    "   \n",
    "    '''def callback(attr, old, new):\n",
    "        data=data2\n",
    "        if new == 0:\n",
    "            data=data2.copy()\n",
    "        else:\n",
    "            valuesx=genvaluesx(new,r0)\n",
    "            data['initialp']=valuesx*0+Pi_bar\n",
    "            data['x_values']=valuesx\n",
    "            data['y_values']=p(valuesx,t)\n",
    "            data['y_values2']=p(valuesx,t,2)\n",
    "        source2.data = ColumnDataSource(data=data).data  \n",
    "    \n",
    "    def callback2(attr, old, new):\n",
    "        data=data2\n",
    "        if new == 0:\n",
    "            data=data2.copy()\n",
    "        else:\n",
    "            data['y_values']=p(data['x_values'],new)\n",
    "            data['y_values2']=p(data['x_values'],new,2)\n",
    "        source2.data = ColumnDataSource(data=data).data  '''\n",
    "    \n",
    "    doc22.add_root(layout([[plot1]]))\n",
    "    \n",
    "\n",
    "    \n",
    "show(modify_doc2)"
   ]
  },
  {
   "cell_type": "code",
   "execution_count": 40,
   "metadata": {},
   "outputs": [
    {
     "name": "stdout",
     "output_type": "stream",
     "text": [
      "{'index': array([0, 1, 2], dtype=int64), 'x': array([0, 0, 0], dtype=int64), 'y': array([0, 0, 0], dtype=int64), 'y2': array([0, 1, 2], dtype=int64), 'x2': array([0, 1, 2], dtype=int64)}\n"
     ]
    }
   ],
   "source": [
    "print(source.data)"
   ]
  },
  {
   "cell_type": "markdown",
   "metadata": {},
   "source": [
    "Полигон для проверки функций #3"
   ]
  },
  {
   "cell_type": "code",
   "execution_count": null,
   "metadata": {},
   "outputs": [],
   "source": [
    "data33 = {'x_values': valuesx,\n",
    "        'y_values': solvE1}\n",
    "data2 = pd.DataFrame(data33)\n",
    "\n",
    "def modify_doc(doc):\n",
    "   \n",
    "    source2 = ColumnDataSource(data=data2)\n",
    "    output_notebook()\n",
    "    plot1 = figure(title=\"P(t), r=0.1 м\", x_axis_label='t, часы', y_axis_label='P по Е1')\n",
    "    plot1.line('x_values', 'y_values', source=source2)\n",
    "\n",
    "    def callback(attr, old, new):\n",
    "        data=data2.copy()\n",
    "        if new == 0:\n",
    "            data=data\n",
    "        else:\n",
    "            valuesx=genvaluesx(new)\n",
    "            valuesx=np.asanyarray(valuesx)\n",
    "            solvE1=p(0.1,valuesx)\n",
    "            data333 = {'x_values': valuesx,'y_values': solvE1}\n",
    "            data22 = pd.DataFrame(data333)\n",
    "            \n",
    "            data['x_values']=data22['x_values']\n",
    "            data['y_values']=data22['y_values']\n",
    "        source2.data = ColumnDataSource(data=data).data\n",
    "    \n",
    "    slider = Slider(start=1, end=2, value=1.1, step=0.1, title=\"Множитель к, расширяющий ось x\")\n",
    "    slider.on_change('value', callback)\n",
    "    \n",
    "    doc.add_root(column(slider, plot1))\n",
    "    \n",
    "\n",
    "\n",
    "    \n",
    "show(modify_doc)"
   ]
  },
  {
   "cell_type": "code",
   "execution_count": null,
   "metadata": {},
   "outputs": [],
   "source": [
    "\n",
    "x=0.001\n",
    "k=1.4 #множитель по оси x\n",
    "\n",
    "\n",
    "td1=td(83.336111111)\n",
    "rd1=rd(0.1)\n",
    "\n",
    "valuesx=genvaluesx(k)\n",
    "valuesx=np.asanyarray(valuesx)\n",
    "print(p(0.1,0.00001))\n",
    "print(p(0.1,0.00001,2))\n",
    "solvE1=p(0.1,valuesx)\n",
    "solvLog=p(0.1,valuesx,2)\n",
    "\n",
    "out('-Ei(-x)=',-Ei(-x), 'Пример значения интегральной экспоненты при x={}'.format(str(x)))\n",
    "out('E1(x)=',E1(x), 'E1(x)=-Ei(-x)=-ln(x)-gamma при x={}'.format(str(x)))\n",
    "out('-ln(x)-gamma=',LogApprox(x),'логарифмическая аппроксимация интегральной экспоненты при x={}'.format(str(x)))\n",
    "\n",
    "\n",
    "#figsize = (4,3)\n",
    "#fig=plt.figure(figsize=figsize, dpi=150, facecolor='green', frameon=True)\n",
    "fig=plt.figure()\n",
    "#plt.xscale('log') \n",
    "plt.plot(valuesx,solvE1, label='E1')\n",
    "plt.plot(valuesx,solvLog, label='Ln')\n",
    "\n",
    "plt.title('Интегральная экспонента и ее аппроксимация')   # заголовок\n",
    "plt.xlabel('x')   # подпись оси OX\n",
    "plt.ylabel('E1(x); -ln(x)-0.57')   # подпись оси OY\n",
    "plt.legend()\n",
    "plt.grid(True)\n",
    "\n",
    "save('pic_1')\n",
    "plt.show()"
   ]
  }
 ],
 "metadata": {
  "kernelspec": {
   "display_name": "Python 3",
   "language": "python",
   "name": "python3"
  },
  "language_info": {
   "codemirror_mode": {
    "name": "ipython",
    "version": 3
   },
   "file_extension": ".py",
   "mimetype": "text/x-python",
   "name": "python",
   "nbconvert_exporter": "python",
   "pygments_lexer": "ipython3",
   "version": "3.7.0"
  }
 },
 "nbformat": 4,
 "nbformat_minor": 2
}
